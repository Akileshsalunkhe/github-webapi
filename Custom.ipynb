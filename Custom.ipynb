{
 "cells": [
  {
   "cell_type": "code",
   "execution_count": 119,
   "metadata": {},
   "outputs": [],
   "source": [
    "import requests\n",
    "import json\n",
    "import os"
   ]
  },
  {
   "cell_type": "code",
   "execution_count": 120,
   "metadata": {},
   "outputs": [
    {
     "name": "stdout",
     "output_type": "stream",
     "text": [
      "Enter your username:\n",
      "manthanraut pranaysolse Akileshsalunkhe\n"
     ]
    }
   ],
   "source": [
    "url=\"https://api.github.com/users/{}\"\n",
    "print(\"Enter your username:\")\n",
    "li=list(map(str,input().split()))\n",
    "\n"
   ]
  },
  {
   "cell_type": "code",
   "execution_count": 121,
   "metadata": {},
   "outputs": [],
   "source": [
    "if not os.path.exists(\"images\"):\n",
    "    os.mkdir(\"images\")\n",
    "    \n",
    "if not os.path.exists(\"users\"):\n",
    "    os.mkdir(\"users\")"
   ]
  },
  {
   "cell_type": "code",
   "execution_count": 122,
   "metadata": {},
   "outputs": [
    {
     "data": {
      "text/plain": [
       "['manthanraut', 'pranaysolse', 'Akileshsalunkhe']"
      ]
     },
     "execution_count": 122,
     "metadata": {},
     "output_type": "execute_result"
    }
   ],
   "source": [
    "li\n"
   ]
  },
  {
   "cell_type": "code",
   "execution_count": 123,
   "metadata": {},
   "outputs": [],
   "source": [
    "for username in li:\n",
    "    out=requests.get(url.format(username))\n",
    "    profile=json.loads(out.text)\n",
    "    \n",
    "\n",
    "    pic=requests.get(profile[\"avatar_url\"])\n",
    "\n",
    "    data=pic.content\n",
    "\n",
    "    f=open(\"images/{}.png\".format(username),\"wb\")\n",
    "\n",
    "    f.write(data)\n",
    "\n",
    "    f.close()"
   ]
  },
  {
   "cell_type": "code",
   "execution_count": 124,
   "metadata": {},
   "outputs": [],
   "source": [
    "    f1=open(\"users/{}.txt\".format(username),\"a\")\n",
    "    #f1.truncate(0)\n",
    "\n",
    "    name=profile[\"name\"]\n",
    "    login=profile[\"login\"]\n",
    "    url=profile[\"url\"]\n",
    "    email=profile[\"email\"]\n",
    "    public_repos=profile[\"public_repos\"]\n",
    "    followers=profile[\"followers\"]\n",
    "    following=profile[\"following\"]\n",
    "    created_at=profile[\"created_at\"]\n",
    "    updated_at=profile[\"updated_at\"]\n",
    "\n",
    "\n",
    "    f1.write(\"name : {}\\n\".format(name))\n",
    "    f1.write(\"login : {}\\n\".format(login))\n",
    "    f1.write(\"url : {}\\n\".format(url))\n",
    "    f1.write(\"email : {}\\n\".format(email))\n",
    "    f1.write(\"public_repos : {}\\n\".format(public_repos))\n",
    "    f1.write(\"followers : {}\\n\".format(followers))\n",
    "    f1.write(\"following : {}\\n\".format(following))\n",
    "    f1.write(\"created_at : {}\\n\".format(created_at))\n",
    "    f1.write(\"updated_at : {}\\n\".format(updated_at))\n",
    "\n",
    "    f1.close()"
   ]
  },
  {
   "cell_type": "code",
   "execution_count": null,
   "metadata": {},
   "outputs": [],
   "source": []
  },
  {
   "cell_type": "code",
   "execution_count": null,
   "metadata": {},
   "outputs": [],
   "source": []
  },
  {
   "cell_type": "code",
   "execution_count": null,
   "metadata": {},
   "outputs": [],
   "source": []
  }
 ],
 "metadata": {
  "kernelspec": {
   "display_name": "Python 3",
   "language": "python",
   "name": "python3"
  },
  "language_info": {
   "codemirror_mode": {
    "name": "ipython",
    "version": 3
   },
   "file_extension": ".py",
   "mimetype": "text/x-python",
   "name": "python",
   "nbconvert_exporter": "python",
   "pygments_lexer": "ipython3",
   "version": "3.7.6"
  }
 },
 "nbformat": 4,
 "nbformat_minor": 4
}
