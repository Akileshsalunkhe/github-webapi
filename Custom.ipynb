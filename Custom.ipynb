{
 "cells": [
  {
   "cell_type": "code",
   "execution_count": 245,
   "metadata": {},
   "outputs": [],
   "source": [
    "import requests\n",
    "import json\n",
    "import os"
   ]
  },
  {
   "cell_type": "code",
   "execution_count": 246,
   "metadata": {},
   "outputs": [
    {
     "name": "stdout",
     "output_type": "stream",
     "text": [
      "Enter your username:\n",
      "Akileshsalunkhe pranaysolse\n"
     ]
    }
   ],
   "source": [
    "url=\"https://api.github.com/users/{}\"\n",
    "print(\"Enter your username:\")\n",
    "li=list(map(str,input().split()))\n",
    "\n"
   ]
  },
  {
   "cell_type": "code",
   "execution_count": 247,
   "metadata": {},
   "outputs": [],
   "source": [
    "if not os.path.exists(\"images\"):\n",
    "    os.mkdir(\"images\")\n",
    "    \n",
    "if not os.path.exists(\"users\"):\n",
    "    os.mkdir(\"users\")"
   ]
  },
  {
   "cell_type": "code",
   "execution_count": 248,
   "metadata": {},
   "outputs": [
    {
     "data": {
      "text/plain": [
       "['Akileshsalunkhe', 'pranaysolse']"
      ]
     },
     "execution_count": 248,
     "metadata": {},
     "output_type": "execute_result"
    }
   ],
   "source": [
    "li\n"
   ]
  },
  {
   "cell_type": "code",
   "execution_count": 249,
   "metadata": {},
   "outputs": [
    {
     "name": "stdout",
     "output_type": "stream",
     "text": [
      "{'login': 'Akileshsalunkhe', 'id': 40572129, 'node_id': 'MDQ6VXNlcjQwNTcyMTI5', 'avatar_url': 'https://avatars1.githubusercontent.com/u/40572129?v=4', 'gravatar_id': '', 'url': 'https://api.github.com/users/Akileshsalunkhe', 'html_url': 'https://github.com/Akileshsalunkhe', 'followers_url': 'https://api.github.com/users/Akileshsalunkhe/followers', 'following_url': 'https://api.github.com/users/Akileshsalunkhe/following{/other_user}', 'gists_url': 'https://api.github.com/users/Akileshsalunkhe/gists{/gist_id}', 'starred_url': 'https://api.github.com/users/Akileshsalunkhe/starred{/owner}{/repo}', 'subscriptions_url': 'https://api.github.com/users/Akileshsalunkhe/subscriptions', 'organizations_url': 'https://api.github.com/users/Akileshsalunkhe/orgs', 'repos_url': 'https://api.github.com/users/Akileshsalunkhe/repos', 'events_url': 'https://api.github.com/users/Akileshsalunkhe/events{/privacy}', 'received_events_url': 'https://api.github.com/users/Akileshsalunkhe/received_events', 'type': 'User', 'site_admin': False, 'name': 'Akilesh Salunkhe', 'company': None, 'blog': '', 'location': None, 'email': None, 'hireable': None, 'bio': None, 'twitter_username': None, 'public_repos': 4, 'public_gists': 0, 'followers': 0, 'following': 0, 'created_at': '2018-06-25T14:51:43Z', 'updated_at': '2020-08-11T18:49:06Z'}\n",
      "{'login': 'pranaysolse', 'id': 44765551, 'node_id': 'MDQ6VXNlcjQ0NzY1NTUx', 'avatar_url': 'https://avatars2.githubusercontent.com/u/44765551?v=4', 'gravatar_id': '', 'url': 'https://api.github.com/users/pranaysolse', 'html_url': 'https://github.com/pranaysolse', 'followers_url': 'https://api.github.com/users/pranaysolse/followers', 'following_url': 'https://api.github.com/users/pranaysolse/following{/other_user}', 'gists_url': 'https://api.github.com/users/pranaysolse/gists{/gist_id}', 'starred_url': 'https://api.github.com/users/pranaysolse/starred{/owner}{/repo}', 'subscriptions_url': 'https://api.github.com/users/pranaysolse/subscriptions', 'organizations_url': 'https://api.github.com/users/pranaysolse/orgs', 'repos_url': 'https://api.github.com/users/pranaysolse/repos', 'events_url': 'https://api.github.com/users/pranaysolse/events{/privacy}', 'received_events_url': 'https://api.github.com/users/pranaysolse/received_events', 'type': 'User', 'site_admin': False, 'name': None, 'company': None, 'blog': '', 'location': None, 'email': None, 'hireable': None, 'bio': None, 'twitter_username': None, 'public_repos': 13, 'public_gists': 0, 'followers': 2, 'following': 0, 'created_at': '2018-11-05T07:17:40Z', 'updated_at': '2020-06-18T09:09:20Z'}\n"
     ]
    }
   ],
   "source": [
    "for username in li:\n",
    "    out=requests.get(\"https://api.github.com/users/{}\".format(username))\n",
    "    profile=json.loads(out.text)\n",
    "    \n",
    "    print(profile)\n",
    "    pic=requests.get(profile[\"avatar_url\"])\n",
    "\n",
    "    data=pic.content\n",
    "\n",
    "    f=open(\"images/{}.png\".format(username),\"wb\")\n",
    "\n",
    "    f.write(data)\n",
    "\n",
    "    f.close()\n",
    "\n",
    "    f1=open(\"users/{}.txt\".format(username),\"a\")\n",
    "    f1.truncate(0)\n",
    "\n",
    "    name=profile[\"name\"]\n",
    "    login=profile[\"login\"]\n",
    "    url=profile[\"url\"]\n",
    "    email=profile[\"email\"]\n",
    "    public_repos=profile[\"public_repos\"]\n",
    "    followers=profile[\"followers\"]\n",
    "    following=profile[\"following\"]\n",
    "    created_at=profile[\"created_at\"]\n",
    "    updated_at=profile[\"updated_at\"]\n",
    "\n",
    "\n",
    "    f1.write(\"name : {}\\n\".format(name))\n",
    "    f1.write(\"login : {}\\n\".format(login))\n",
    "    f1.write(\"url : {}\\n\".format(url))\n",
    "    f1.write(\"email : {}\\n\".format(email))\n",
    "    f1.write(\"public_repos : {}\\n\".format(public_repos))\n",
    "    f1.write(\"followers : {}\\n\".format(followers))\n",
    "    f1.write(\"following : {}\\n\".format(following))\n",
    "    f1.write(\"created_at : {}\\n\".format(created_at))\n",
    "    f1.write(\"updated_at : {}\\n\".format(updated_at))\n",
    "\n",
    "    f1.close()"
   ]
  },
  {
   "cell_type": "code",
   "execution_count": null,
   "metadata": {},
   "outputs": [],
   "source": []
  },
  {
   "cell_type": "code",
   "execution_count": null,
   "metadata": {},
   "outputs": [],
   "source": []
  },
  {
   "cell_type": "code",
   "execution_count": null,
   "metadata": {},
   "outputs": [],
   "source": []
  }
 ],
 "metadata": {
  "kernelspec": {
   "display_name": "Python 3",
   "language": "python",
   "name": "python3"
  },
  "language_info": {
   "codemirror_mode": {
    "name": "ipython",
    "version": 3
   },
   "file_extension": ".py",
   "mimetype": "text/x-python",
   "name": "python",
   "nbconvert_exporter": "python",
   "pygments_lexer": "ipython3",
   "version": "3.7.6"
  }
 },
 "nbformat": 4,
 "nbformat_minor": 4
}
