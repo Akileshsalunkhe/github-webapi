{
 "cells": [
  {
   "cell_type": "code",
   "execution_count": 2,
   "metadata": {},
   "outputs": [],
   "source": [
    "import requests\n",
    "import json"
   ]
  },
  {
   "cell_type": "code",
   "execution_count": 6,
   "metadata": {},
   "outputs": [],
   "source": [
    "out=requests.get(\"https://api.github.com/users/octocat\")\n"
   ]
  },
  {
   "cell_type": "code",
   "execution_count": 11,
   "metadata": {},
   "outputs": [
    {
     "data": {
      "text/plain": [
       "{'login': 'octocat',\n",
       " 'id': 583231,\n",
       " 'node_id': 'MDQ6VXNlcjU4MzIzMQ==',\n",
       " 'avatar_url': 'https://avatars3.githubusercontent.com/u/583231?v=4',\n",
       " 'gravatar_id': '',\n",
       " 'url': 'https://api.github.com/users/octocat',\n",
       " 'html_url': 'https://github.com/octocat',\n",
       " 'followers_url': 'https://api.github.com/users/octocat/followers',\n",
       " 'following_url': 'https://api.github.com/users/octocat/following{/other_user}',\n",
       " 'gists_url': 'https://api.github.com/users/octocat/gists{/gist_id}',\n",
       " 'starred_url': 'https://api.github.com/users/octocat/starred{/owner}{/repo}',\n",
       " 'subscriptions_url': 'https://api.github.com/users/octocat/subscriptions',\n",
       " 'organizations_url': 'https://api.github.com/users/octocat/orgs',\n",
       " 'repos_url': 'https://api.github.com/users/octocat/repos',\n",
       " 'events_url': 'https://api.github.com/users/octocat/events{/privacy}',\n",
       " 'received_events_url': 'https://api.github.com/users/octocat/received_events',\n",
       " 'type': 'User',\n",
       " 'site_admin': False,\n",
       " 'name': 'The Octocat',\n",
       " 'company': '@github',\n",
       " 'blog': 'https://github.blog',\n",
       " 'location': 'San Francisco',\n",
       " 'email': None,\n",
       " 'hireable': None,\n",
       " 'bio': None,\n",
       " 'twitter_username': None,\n",
       " 'public_repos': 8,\n",
       " 'public_gists': 8,\n",
       " 'followers': 3181,\n",
       " 'following': 9,\n",
       " 'created_at': '2011-01-25T18:44:36Z',\n",
       " 'updated_at': '2020-07-22T14:28:20Z'}"
      ]
     },
     "execution_count": 11,
     "metadata": {},
     "output_type": "execute_result"
    }
   ],
   "source": [
    "json.loads(out.content)"
   ]
  },
  {
   "cell_type": "code",
   "execution_count": 9,
   "metadata": {},
   "outputs": [],
   "source": [
    "profile=json.loads(out.content)\n"
   ]
  },
  {
   "cell_type": "code",
   "execution_count": 10,
   "metadata": {},
   "outputs": [
    {
     "data": {
      "text/plain": [
       "'The Octocat'"
      ]
     },
     "execution_count": 10,
     "metadata": {},
     "output_type": "execute_result"
    }
   ],
   "source": [
    "profile[\"name\"]"
   ]
  },
  {
   "cell_type": "code",
   "execution_count": 12,
   "metadata": {},
   "outputs": [
    {
     "data": {
      "text/plain": [
       "'https://avatars3.githubusercontent.com/u/583231?v=4'"
      ]
     },
     "execution_count": 12,
     "metadata": {},
     "output_type": "execute_result"
    }
   ],
   "source": [
    "requests.get(profile[\"avatar_url\"])"
   ]
  },
  {
   "cell_type": "code",
   "execution_count": null,
   "metadata": {},
   "outputs": [],
   "source": []
  }
 ],
 "metadata": {
  "kernelspec": {
   "display_name": "Python 3",
   "language": "python",
   "name": "python3"
  },
  "language_info": {
   "codemirror_mode": {
    "name": "ipython",
    "version": 3
   },
   "file_extension": ".py",
   "mimetype": "text/x-python",
   "name": "python",
   "nbconvert_exporter": "python",
   "pygments_lexer": "ipython3",
   "version": "3.7.6"
  }
 },
 "nbformat": 4,
 "nbformat_minor": 4
}
