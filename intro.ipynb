{
 "cells": [
  {
   "cell_type": "code",
   "execution_count": 31,
   "metadata": {},
   "outputs": [],
   "source": [
    "import requests\n",
    "import json\n"
   ]
  },
  {
   "cell_type": "code",
   "execution_count": 36,
   "metadata": {},
   "outputs": [
    {
     "name": "stdout",
     "output_type": "stream",
     "text": [
      "Enter your username:Akileshsalunkhe\n"
     ]
    }
   ],
   "source": [
    "url=\"https://api.github.com/users/{}\"\n",
    "username=input(\"Enter your username:\")"
   ]
  },
  {
   "cell_type": "code",
   "execution_count": 37,
   "metadata": {},
   "outputs": [],
   "source": [
    "out=requests.get(url.format(username))\n"
   ]
  },
  {
   "cell_type": "code",
   "execution_count": 38,
   "metadata": {},
   "outputs": [
    {
     "data": {
      "text/plain": [
       "{'login': 'Akileshsalunkhe',\n",
       " 'id': 40572129,\n",
       " 'node_id': 'MDQ6VXNlcjQwNTcyMTI5',\n",
       " 'avatar_url': 'https://avatars1.githubusercontent.com/u/40572129?v=4',\n",
       " 'gravatar_id': '',\n",
       " 'url': 'https://api.github.com/users/Akileshsalunkhe',\n",
       " 'html_url': 'https://github.com/Akileshsalunkhe',\n",
       " 'followers_url': 'https://api.github.com/users/Akileshsalunkhe/followers',\n",
       " 'following_url': 'https://api.github.com/users/Akileshsalunkhe/following{/other_user}',\n",
       " 'gists_url': 'https://api.github.com/users/Akileshsalunkhe/gists{/gist_id}',\n",
       " 'starred_url': 'https://api.github.com/users/Akileshsalunkhe/starred{/owner}{/repo}',\n",
       " 'subscriptions_url': 'https://api.github.com/users/Akileshsalunkhe/subscriptions',\n",
       " 'organizations_url': 'https://api.github.com/users/Akileshsalunkhe/orgs',\n",
       " 'repos_url': 'https://api.github.com/users/Akileshsalunkhe/repos',\n",
       " 'events_url': 'https://api.github.com/users/Akileshsalunkhe/events{/privacy}',\n",
       " 'received_events_url': 'https://api.github.com/users/Akileshsalunkhe/received_events',\n",
       " 'type': 'User',\n",
       " 'site_admin': False,\n",
       " 'name': None,\n",
       " 'company': None,\n",
       " 'blog': '',\n",
       " 'location': None,\n",
       " 'email': None,\n",
       " 'hireable': None,\n",
       " 'bio': None,\n",
       " 'twitter_username': None,\n",
       " 'public_repos': 3,\n",
       " 'public_gists': 0,\n",
       " 'followers': 0,\n",
       " 'following': 0,\n",
       " 'created_at': '2018-06-25T14:51:43Z',\n",
       " 'updated_at': '2020-07-13T16:00:11Z'}"
      ]
     },
     "execution_count": 38,
     "metadata": {},
     "output_type": "execute_result"
    }
   ],
   "source": [
    "json.loads(out.content)"
   ]
  },
  {
   "cell_type": "code",
   "execution_count": 39,
   "metadata": {},
   "outputs": [],
   "source": [
    "profile=json.loads(out.content)\n"
   ]
  },
  {
   "cell_type": "code",
   "execution_count": 40,
   "metadata": {},
   "outputs": [],
   "source": [
    "profile[\"name\"]"
   ]
  },
  {
   "cell_type": "code",
   "execution_count": 42,
   "metadata": {},
   "outputs": [],
   "source": [
    "pic=requests.get(profile[\"avatar_url\"])"
   ]
  },
  {
   "cell_type": "code",
   "execution_count": 43,
   "metadata": {},
   "outputs": [],
   "source": [
    "data=pic.content"
   ]
  },
  {
   "cell_type": "code",
   "execution_count": 44,
   "metadata": {},
   "outputs": [],
   "source": [
    "f=open(\"{}.png\".format(username),\"wb\")"
   ]
  },
  {
   "cell_type": "code",
   "execution_count": 45,
   "metadata": {},
   "outputs": [
    {
     "data": {
      "text/plain": [
       "1514"
      ]
     },
     "execution_count": 45,
     "metadata": {},
     "output_type": "execute_result"
    }
   ],
   "source": [
    "f.write(data)"
   ]
  },
  {
   "cell_type": "code",
   "execution_count": 46,
   "metadata": {},
   "outputs": [],
   "source": [
    "f.close()"
   ]
  },
  {
   "cell_type": "code",
   "execution_count": 50,
   "metadata": {},
   "outputs": [],
   "source": [
    "f=open(\"{}.txt\".format(username),\"w\")"
   ]
  },
  {
   "cell_type": "code",
   "execution_count": null,
   "metadata": {},
   "outputs": [],
   "source": [
    "f.write()"
   ]
  }
 ],
 "metadata": {
  "kernelspec": {
   "display_name": "Python 3",
   "language": "python",
   "name": "python3"
  },
  "language_info": {
   "codemirror_mode": {
    "name": "ipython",
    "version": 3
   },
   "file_extension": ".py",
   "mimetype": "text/x-python",
   "name": "python",
   "nbconvert_exporter": "python",
   "pygments_lexer": "ipython3",
   "version": "3.7.6"
  }
 },
 "nbformat": 4,
 "nbformat_minor": 4
}
